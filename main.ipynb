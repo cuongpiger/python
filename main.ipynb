{
 "cells": [
  {
   "cell_type": "code",
   "execution_count": 1,
   "metadata": {},
   "outputs": [],
   "source": [
    "%load_ext autoreload\n",
    "%autoreload 2"
   ]
  },
  {
   "cell_type": "code",
   "execution_count": 2,
   "metadata": {},
   "outputs": [],
   "source": [
    "import docker"
   ]
  },
  {
   "cell_type": "code",
   "execution_count": 15,
   "metadata": {},
   "outputs": [],
   "source": [
    "client = docker.from_env()"
   ]
  },
  {
   "cell_type": "code",
   "execution_count": 211,
   "metadata": {},
   "outputs": [
    {
     "name": "stdout",
     "output_type": "stream",
     "text": [
      "volume-nfs\n"
     ]
    }
   ],
   "source": [
    "_image = \"volume-nfs\"\n",
    "print(_image)"
   ]
  },
  {
   "cell_type": "code",
   "execution_count": 212,
   "metadata": {},
   "outputs": [],
   "source": [
    "old_registry = \"registry.vngcloud.vn/public\"\n",
    "new_registry = \"vcr.vngcloud.vn/81-vks-public\""
   ]
  },
  {
   "cell_type": "code",
   "execution_count": 213,
   "metadata": {},
   "outputs": [],
   "source": [
    "images = client.images.pull(f\"{old_registry}/{_image}\", all_tags=True)"
   ]
  },
  {
   "cell_type": "code",
   "execution_count": 214,
   "metadata": {},
   "outputs": [
    {
     "name": "stdout",
     "output_type": "stream",
     "text": [
      "registry.vngcloud.vn/public/volume-nfs:0.8\n"
     ]
    }
   ],
   "source": [
    "for image in images:\n",
    "    img = image.tags[0]\n",
    "    new_image = img.replace(old_registry, new_registry)\n",
    "    print(image.tags[0])\n",
    "    image.tag(new_image)"
   ]
  },
  {
   "cell_type": "code",
   "execution_count": 215,
   "metadata": {},
   "outputs": [
    {
     "name": "stdout",
     "output_type": "stream",
     "text": [
      "Pushing... vcr.vngcloud.vn/81-vks-public/volume-nfs:0.8\n",
      "Pushed vcr.vngcloud.vn/81-vks-public/volume-nfs:0.8\n",
      "\n"
     ]
    }
   ],
   "source": [
    "for image in images:\n",
    "    img = image.tags[0]\n",
    "    new_image = img.replace(old_registry, new_registry)\n",
    "    print(f\"Pushing... {new_image}\")\n",
    "    client.images.push(new_image)\n",
    "    print(f\"Pushed {new_image}\\n\")"
   ]
  },
  {
   "cell_type": "code",
   "execution_count": 216,
   "metadata": {},
   "outputs": [
    {
     "name": "stdout",
     "output_type": "stream",
     "text": [
      "Deleted Images:\n",
      "untagged: vcr.vngcloud.vn/81-vks-public/vcontainer-terminal:latest\n",
      "untagged: registry.vngcloud.vn/public/volume-nfs:0.8\n",
      "untagged: registry.vngcloud.vn/public/volume-nfs@sha256:3899ca782a272608fb4139eca436e87592eb779ae76adad6f8e0080365d57de0\n",
      "untagged: vcr.vngcloud.vn/81-vks-public/volume-nfs:0.8\n",
      "untagged: vcr.vngcloud.vn/81-vks-public/volume-nfs@sha256:3899ca782a272608fb4139eca436e87592eb779ae76adad6f8e0080365d57de0\n",
      "deleted: sha256:ab7049d62a53be18647edab2f82e037bbc43364866d8454f95618f005ae7663e\n",
      "deleted: sha256:0ed1053e034c1d8ef82730c7e89f9862d307f64b26ad7d956c41350acc65c63c\n",
      "deleted: sha256:65c672f6c7dcefb45c534c0878ffc164a33313aced899e3982bb9393de2858f1\n",
      "deleted: sha256:bf28240266880bb241606a211eece232c90bf1641fa8b9fae657755eeda1b387\n",
      "deleted: sha256:a80fbe280ccea3c3a497815a4ec0bf57177369b87803389d9bafda162d6bd342\n",
      "deleted: sha256:905c5782a3bfebd965ca2586f09abde4737870d3b0b7ab0094c8dc24701d1f02\n",
      "deleted: sha256:460d95a661743d266fa9c81e6f8b6cd8e59cf09d829ebb1969c2942bcf10b391\n",
      "deleted: sha256:95880ea4c71e38f07566aa1d2c38f7cd2842c737ad1b27d0a12538116886e276\n",
      "deleted: sha256:115fe6405bc3a3a59abd46e7d8e2d71ac6c0252b2b97bac41aa2234196556ea8\n",
      "deleted: sha256:c130d1d9866b068f175d9efa8089eea042426110674b8be2c2952147df2055d8\n",
      "deleted: sha256:bac054f2a1825d7d5860a44f8228c575d6c946be115f88e8874dfcf440d35c11\n",
      "deleted: sha256:0aeb287b1ba9fd4c951bb9f4bd8e50908f51c630e07b655b3b2f9581dc0fef0d\n",
      "\n",
      "Total reclaimed space: 247.2MB\n"
     ]
    }
   ],
   "source": [
    "!docker image prune -a -f"
   ]
  },
  {
   "cell_type": "code",
   "execution_count": null,
   "metadata": {},
   "outputs": [],
   "source": []
  }
 ],
 "metadata": {
  "kernelspec": {
   "display_name": "openstack-customizing-utils",
   "language": "python",
   "name": "python3"
  },
  "language_info": {
   "codemirror_mode": {
    "name": "ipython",
    "version": 3
   },
   "file_extension": ".py",
   "mimetype": "text/x-python",
   "name": "python",
   "nbconvert_exporter": "python",
   "pygments_lexer": "ipython3",
   "version": "3.12.0"
  }
 },
 "nbformat": 4,
 "nbformat_minor": 2
}
