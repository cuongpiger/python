{
 "cells": [
  {
   "cell_type": "code",
   "execution_count": 7,
   "metadata": {},
   "outputs": [
    {
     "name": "stdout",
     "output_type": "stream",
     "text": [
      "The autoreload extension is already loaded. To reload it, use:\n",
      "  %reload_ext autoreload\n"
     ]
    }
   ],
   "source": [
    "%load_ext autoreload\n",
    "%autoreload 2"
   ]
  },
  {
   "cell_type": "code",
   "execution_count": 8,
   "metadata": {},
   "outputs": [],
   "source": [
    "import docker"
   ]
  },
  {
   "cell_type": "code",
   "execution_count": 9,
   "metadata": {},
   "outputs": [],
   "source": [
    "client = docker.from_env()"
   ]
  },
  {
   "cell_type": "code",
   "execution_count": 274,
   "metadata": {},
   "outputs": [
    {
     "name": "stdout",
     "output_type": "stream",
     "text": [
      "k8s-prometheus-adapter-amd64\n"
     ]
    }
   ],
   "source": [
    "_image = \"k8s-prometheus-adapter-amd64\"\n",
    "print(_image)"
   ]
  },
  {
   "cell_type": "code",
   "execution_count": 275,
   "metadata": {},
   "outputs": [],
   "source": [
    "old_registry = \"vcr-hcm03.vngcloud.vn/k8s_images\"\n",
    "new_registry = \"vcr.vngcloud.vn/k8s_images\""
   ]
  },
  {
   "cell_type": "code",
   "execution_count": 276,
   "metadata": {},
   "outputs": [],
   "source": [
    "images = client.images.pull(f\"{old_registry}/{_image}\", all_tags=True)"
   ]
  },
  {
   "cell_type": "code",
   "execution_count": 277,
   "metadata": {},
   "outputs": [
    {
     "name": "stdout",
     "output_type": "stream",
     "text": [
      "vcr-hcm03.vngcloud.vn/k8s_images/k8s-prometheus-adapter-amd64:v0.5.0\n"
     ]
    }
   ],
   "source": [
    "for image in images:\n",
    "    img = image.tags[0]\n",
    "    new_image = img.replace(old_registry, new_registry)\n",
    "    print(image.tags[0])\n",
    "    image.tag(new_image)"
   ]
  },
  {
   "cell_type": "code",
   "execution_count": 278,
   "metadata": {},
   "outputs": [
    {
     "name": "stdout",
     "output_type": "stream",
     "text": [
      "Pushing... vcr.vngcloud.vn/k8s_images/k8s-prometheus-adapter-amd64:v0.5.0\n",
      "Pushed vcr.vngcloud.vn/k8s_images/k8s-prometheus-adapter-amd64:v0.5.0\n",
      "\n"
     ]
    }
   ],
   "source": [
    "for image in images:\n",
    "    img = image.tags[0]\n",
    "    new_image = img.replace(old_registry, new_registry)\n",
    "    print(f\"Pushing... {new_image}\")\n",
    "    client.images.push(new_image)\n",
    "    print(f\"Pushed {new_image}\\n\")"
   ]
  },
  {
   "cell_type": "code",
   "execution_count": 279,
   "metadata": {},
   "outputs": [
    {
     "name": "stdout",
     "output_type": "stream",
     "text": [
      "Deleted Images:\n",
      "untagged: vcr-hcm03.vngcloud.vn/k8s_images/k8s-prometheus-adapter-amd64:v0.5.0\n",
      "untagged: vcr-hcm03.vngcloud.vn/k8s_images/k8s-prometheus-adapter-amd64@sha256:acf4c4dc6aaa51e3004eebdc410b509db45d1a6ebd255457c5745f0b4671678f\n",
      "untagged: vcr.vngcloud.vn/k8s_images/k8s-prometheus-adapter-amd64:v0.5.0\n",
      "untagged: vcr.vngcloud.vn/k8s_images/k8s-prometheus-adapter-amd64@sha256:acf4c4dc6aaa51e3004eebdc410b509db45d1a6ebd255457c5745f0b4671678f\n",
      "deleted: sha256:1913a4c0e1d0fce0e520424db3af62e0b21ff4fa3d93c4034ef9f16fad0e8706\n",
      "deleted: sha256:ffb776570fd0dbb68df33fe8c8e0b7b69b7e6c88d94d638af52cbef521aac7fc\n",
      "deleted: sha256:0b97b1c81a3200e9eeb87f17a5d25a50791a16fa08fc41eb94ad15f26516ccea\n",
      "\n",
      "Total reclaimed space: 60.88MB\n"
     ]
    }
   ],
   "source": [
    "!docker image prune -a -f"
   ]
  },
  {
   "cell_type": "code",
   "execution_count": null,
   "metadata": {},
   "outputs": [],
   "source": []
  }
 ],
 "metadata": {
  "kernelspec": {
   "display_name": "openstack-customizing-utils",
   "language": "python",
   "name": "python3"
  },
  "language_info": {
   "codemirror_mode": {
    "name": "ipython",
    "version": 3
   },
   "file_extension": ".py",
   "mimetype": "text/x-python",
   "name": "python",
   "nbconvert_exporter": "python",
   "pygments_lexer": "ipython3",
   "version": "3.12.0"
  }
 },
 "nbformat": 4,
 "nbformat_minor": 2
}
