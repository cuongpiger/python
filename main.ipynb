{
 "cells": [
  {
   "attachments": {},
   "cell_type": "markdown",
   "metadata": {},
   "source": [
    "* Decorator is a function that takes another function as input, extends its behavior, and returnns a new function as output.\n",
    "* Python functions are first-class objects, which means that they can be passed around and used as arguments, just like any other object (string, int, float, list, and so on).\n",
    "* It should be noted that a decorator can also be used to decorate a class. A common use case is to use a class decorator as a registry for the classes created."
   ]
  },
  {
   "cell_type": "code",
   "execution_count": 2,
   "metadata": {},
   "outputs": [],
   "source": [
    "def func1():\n",
    "    print(\"Inside func1\")"
   ]
  },
  {
   "cell_type": "code",
   "execution_count": 4,
   "metadata": {},
   "outputs": [
    {
     "name": "stdout",
     "output_type": "stream",
     "text": [
      "Inside func1\n"
     ]
    }
   ],
   "source": [
    "func1()"
   ]
  },
  {
   "cell_type": "code",
   "execution_count": 6,
   "metadata": {},
   "outputs": [],
   "source": [
    "from typing import Callable\n",
    "\n",
    "def decorator(func: Callable):\n",
    "    print(\"Inside the decorator\")\n",
    "    def wrapper():\n",
    "        print(\"\\tInside the wrapper\")\n",
    "        print(\"\\tDo something before the `func` is executed\")\n",
    "        value = func()  # execute the `func`\n",
    "        print(\"\\tAlso inside the wrapper\")\n",
    "        print(\"\\tDo something after the `func` is executed\")\n",
    "        \n",
    "        # we need to return the value explicitly\n",
    "        return value\n",
    "    \n",
    "    # Return the wrapper which is the wrapped/decorated function\n",
    "    return wrapper"
   ]
  },
  {
   "cell_type": "code",
   "execution_count": 7,
   "metadata": {},
   "outputs": [
    {
     "name": "stdout",
     "output_type": "stream",
     "text": [
      "Inside the decorator\n"
     ]
    }
   ],
   "source": [
    "func1_decorated = decorator(func1)"
   ]
  },
  {
   "cell_type": "code",
   "execution_count": 8,
   "metadata": {},
   "outputs": [
    {
     "name": "stdout",
     "output_type": "stream",
     "text": [
      "\tInside the wrapper\n",
      "\tDo something before the `func` is executed\n",
      "Inside func1\n",
      "\tAlso inside the wrapper\n",
      "\tDo something after the `func` is executed\n"
     ]
    }
   ],
   "source": [
    "func1_decorated()"
   ]
  },
  {
   "cell_type": "markdown",
   "metadata": {},
   "source": [
    "<hr>"
   ]
  },
  {
   "attachments": {},
   "cell_type": "markdown",
   "metadata": {},
   "source": [
    "* Let's introduce the magical `@` symbol, which is just the **syntactic sugar** that make the above function operation much easier."
   ]
  },
  {
   "cell_type": "code",
   "execution_count": 9,
   "metadata": {},
   "outputs": [
    {
     "name": "stdout",
     "output_type": "stream",
     "text": [
      "Inside the decorator\n"
     ]
    }
   ],
   "source": [
    "@decorator  # call the decorator with the function as the argument\n",
    "def func2():\n",
    "    print(\"Inside func2\")"
   ]
  },
  {
   "cell_type": "code",
   "execution_count": 10,
   "metadata": {},
   "outputs": [
    {
     "name": "stdout",
     "output_type": "stream",
     "text": [
      "\tInside the wrapper\n",
      "\tDo something before the `func` is executed\n",
      "Inside func2\n",
      "\tAlso inside the wrapper\n",
      "\tDo something after the `func` is executed\n"
     ]
    }
   ],
   "source": [
    "func2()"
   ]
  },
  {
   "cell_type": "markdown",
   "metadata": {},
   "source": [
    "<hr>"
   ]
  },
  {
   "attachments": {},
   "cell_type": "markdown",
   "metadata": {},
   "source": [
    "* Now let's move on **decorator with arguments**. The following example is a decorator that takes an argument."
   ]
  },
  {
   "cell_type": "code",
   "execution_count": 11,
   "metadata": {},
   "outputs": [],
   "source": [
    "def decorator2(func: Callable):\n",
    "    print(\"Inside the decorator2\")\n",
    "    \n",
    "    # The parameters are passed to wrapper\n",
    "    def wrapper(*args, **kwargs):\n",
    "        print(\"\\tInside the wrapper\")\n",
    "        print(\"\\tDo something before the `func` is executed\")\n",
    "        \n",
    "        value = func(*args, **kwargs)  # execute the `func`\n",
    "        \n",
    "        print(\"\\tAlso inside the wrapper\")\n",
    "        print(\"\\tDo something after the `func` is executed\")\n",
    "        \n",
    "        # we need to return the value explicitly\n",
    "        return value\n",
    "    \n",
    "    # Return the wrapper which is the wrapped/decorated function\n",
    "    return wrapper"
   ]
  },
  {
   "cell_type": "code",
   "execution_count": 12,
   "metadata": {},
   "outputs": [
    {
     "name": "stdout",
     "output_type": "stream",
     "text": [
      "Inside the decorator2\n"
     ]
    }
   ],
   "source": [
    "@decorator2\n",
    "def multi_10(number: int, times: int = 1):\n",
    "    print(f\"Inside multi_10: {number} * {times} = {number * times} time(s)\")"
   ]
  },
  {
   "cell_type": "code",
   "execution_count": 13,
   "metadata": {},
   "outputs": [
    {
     "name": "stdout",
     "output_type": "stream",
     "text": [
      "\tInside the wrapper\n",
      "\tDo something before the `func` is executed\n",
      "Inside multi_10: 10 * 2 = 20 time(s)\n",
      "\tAlso inside the wrapper\n",
      "\tDo something after the `func` is executed\n"
     ]
    }
   ],
   "source": [
    "multi_10(10, 2)"
   ]
  },
  {
   "attachments": {},
   "cell_type": "markdown",
   "metadata": {},
   "source": [
    "* NOTE: There is a bit confused here."
   ]
  },
  {
   "cell_type": "code",
   "execution_count": 14,
   "metadata": {},
   "outputs": [
    {
     "name": "stdout",
     "output_type": "stream",
     "text": [
      "multi_10.__name__: wrapper\n"
     ]
    }
   ],
   "source": [
    "print(\"multi_10.__name__:\", multi_10.__name__)"
   ]
  },
  {
   "attachments": {},
   "cell_type": "markdown",
   "metadata": {},
   "source": [
    "> * The `multi_10.__name__` should be `multi_10` instead of `wrapper` because the `functools.wraps` decorator is used to copy the name, module, and docstring of the input function to the output function."
   ]
  },
  {
   "cell_type": "markdown",
   "metadata": {},
   "source": [
    "<hr>"
   ]
  },
  {
   "attachments": {},
   "cell_type": "markdown",
   "metadata": {},
   "source": [
    "* To resolve the above confusion, we can use the `functools.wraps` decorator to copy the name, module, and docstring of the input function to the output function."
   ]
  },
  {
   "cell_type": "code",
   "execution_count": 15,
   "metadata": {},
   "outputs": [],
   "source": [
    "from functools import wraps\n",
    "\n",
    "def decorator3(func: Callable):\n",
    "    print(\"Inside the decorator3\")\n",
    "    \n",
    "    @wraps(func)\n",
    "    def wrapper(*args, **kwargs):\n",
    "        print(\"\\tInside the wrapper\")\n",
    "        print(\"\\tDo something before the `func` is executed\")\n",
    "        \n",
    "        value = func(*args, **kwargs)  # execute the `func`\n",
    "        \n",
    "        print(\"\\tAlso inside the wrapper\")\n",
    "        print(\"\\tDo something after the `func` is executed\")\n",
    "        \n",
    "        # we need to return the value explicitly\n",
    "        return value\n",
    "    \n",
    "    # Return the wrapper which is the wrapped/decorated function\n",
    "    return wrapper"
   ]
  },
  {
   "cell_type": "code",
   "execution_count": 16,
   "metadata": {},
   "outputs": [
    {
     "name": "stdout",
     "output_type": "stream",
     "text": [
      "Inside the decorator3\n"
     ]
    }
   ],
   "source": [
    "@decorator3\n",
    "def multi_10_v2(number: int, times: int = 1):\n",
    "    print(f\"Inside multi_10_v2: {number} * {times} = {number * times} time(s)\")"
   ]
  },
  {
   "cell_type": "code",
   "execution_count": 17,
   "metadata": {},
   "outputs": [
    {
     "name": "stdout",
     "output_type": "stream",
     "text": [
      "\tInside the wrapper\n",
      "\tDo something before the `func` is executed\n",
      "Inside multi_10_v2: 10 * 2 = 20 time(s)\n",
      "\tAlso inside the wrapper\n",
      "\tDo something after the `func` is executed\n"
     ]
    }
   ],
   "source": [
    "multi_10_v2(10, 2)"
   ]
  },
  {
   "cell_type": "code",
   "execution_count": 18,
   "metadata": {},
   "outputs": [
    {
     "name": "stdout",
     "output_type": "stream",
     "text": [
      "multi_10_v2.__name__: multi_10_v2\n"
     ]
    }
   ],
   "source": [
    "print(\"multi_10_v2.__name__:\", multi_10_v2.__name__)"
   ]
  },
  {
   "cell_type": "markdown",
   "metadata": {},
   "source": [
    "<hr>"
   ]
  },
  {
   "attachments": {},
   "cell_type": "markdown",
   "metadata": {},
   "source": [
    "* **Decorator factory**: A decorator factory is a function that returns a decorator, which is a function that takes another function as input, extends its behavior, and returns a new function as output."
   ]
  },
  {
   "cell_type": "code",
   "execution_count": 19,
   "metadata": {},
   "outputs": [],
   "source": [
    "def decorator_factory(add_to_log = False):\n",
    "    print(\"Inside the decorator_factory\")\n",
    "    \n",
    "    # The function to decorate is passed to the decorator function\n",
    "    def decorator(func: Callable):\n",
    "        print(\"Inside the decorator\")\n",
    "        \n",
    "        # The wraps decorator is used preserve the properties of the original function.\n",
    "        # Note the parameters are passed to wrapper.\n",
    "        @wraps(func)\n",
    "        def wrapper(*args, **kwargs):\n",
    "            print(\"\\tInside the wrapper\")\n",
    "            print(\"\\tDo something before the `func` is executed\")\n",
    "            \n",
    "            value = func(*args, **kwargs)  # execute the `func`\n",
    "            \n",
    "            # The parameters passed to factory can be used in nested functions\n",
    "            if add_to_log:\n",
    "                print(\"\\tInside the wrapper: add to log\")\n",
    "                print(\"\\tDo something with the log, the function is logged after execution\")\n",
    "                \n",
    "            # We need to return the value explicitly\n",
    "            return value\n",
    "        \n",
    "        # Return the wrapper which is the wrapped/decorated function\n",
    "        return wrapper\n",
    "    \n",
    "    # Return the decorator which is the decorator function\n",
    "    return decorator"
   ]
  },
  {
   "cell_type": "code",
   "execution_count": 20,
   "metadata": {},
   "outputs": [
    {
     "name": "stdout",
     "output_type": "stream",
     "text": [
      "Inside the decorator_factory\n",
      "Inside the decorator\n"
     ]
    }
   ],
   "source": [
    "@decorator_factory(add_to_log=True)\n",
    "def multi_10_v3(number: int, times: int = 1):\n",
    "    print(f\"Inside multi_10_v3: {number} * {times} = {number * times} time(s)\")"
   ]
  },
  {
   "cell_type": "code",
   "execution_count": 21,
   "metadata": {},
   "outputs": [
    {
     "name": "stdout",
     "output_type": "stream",
     "text": [
      "\tInside the wrapper\n",
      "\tDo something before the `func` is executed\n",
      "Inside multi_10_v3: 10 * 2 = 20 time(s)\n",
      "\tInside the wrapper: add to log\n",
      "\tDo something with the log, the function is logged after execution\n"
     ]
    }
   ],
   "source": [
    "multi_10_v3(10, 2)"
   ]
  },
  {
   "cell_type": "code",
   "execution_count": 22,
   "metadata": {},
   "outputs": [
    {
     "name": "stdout",
     "output_type": "stream",
     "text": [
      "Inside the decorator_factory\n",
      "Inside the decorator\n"
     ]
    }
   ],
   "source": [
    "@decorator_factory()\n",
    "def multi_10_v4(number: int, times: int = 1):\n",
    "    print(f\"Inside multi_10_v4: {number} * {times} = {number * times} time(s)\")"
   ]
  },
  {
   "cell_type": "markdown",
   "metadata": {},
   "source": [
    "<hr>"
   ]
  },
  {
   "attachments": {},
   "cell_type": "markdown",
   "metadata": {},
   "source": [
    "* Now we understand how decorator work, let's create a decorator which can be used to track the execution time of a function."
   ]
  },
  {
   "cell_type": "code",
   "execution_count": 24,
   "metadata": {},
   "outputs": [],
   "source": [
    "from functools import wraps\n",
    "from datetime import datetime, timedelta\n",
    "\n",
    "def debug_timer(exec_time: bool=True):\n",
    "    def decorator(func: Callable):\n",
    "        @wraps(func)\n",
    "        def wrapper(*args, **kwargs):\n",
    "            start_time = datetime.now()\n",
    "            value = func(*args, **kwargs)\n",
    "            end_time = datetime.now()\n",
    "            if exec_time:\n",
    "                print(f\"Execution time: {end_time - start_time}\")\n",
    "            return value\n",
    "        return wrapper\n",
    "    return decorator"
   ]
  },
  {
   "cell_type": "code",
   "execution_count": 25,
   "metadata": {},
   "outputs": [],
   "source": [
    "@debug_timer()\n",
    "def multi_10_v5(number: int, times: int = 1):\n",
    "    print(f\"Inside multi_10_v5: {number} * {times} = {number * times} time(s)\")"
   ]
  },
  {
   "cell_type": "code",
   "execution_count": 26,
   "metadata": {},
   "outputs": [
    {
     "name": "stdout",
     "output_type": "stream",
     "text": [
      "Inside multi_10_v5: 10 * 5 = 50 time(s)\n",
      "Execution time: 0:00:00.009047\n"
     ]
    }
   ],
   "source": [
    "multi_10_v5(10, 5)"
   ]
  },
  {
   "cell_type": "code",
   "execution_count": null,
   "metadata": {},
   "outputs": [],
   "source": []
  }
 ],
 "metadata": {
  "kernelspec": {
   "display_name": "misc",
   "language": "python",
   "name": "python3"
  },
  "language_info": {
   "codemirror_mode": {
    "name": "ipython",
    "version": 3
   },
   "file_extension": ".py",
   "mimetype": "text/x-python",
   "name": "python",
   "nbconvert_exporter": "python",
   "pygments_lexer": "ipython3",
   "version": "3.8.16"
  },
  "orig_nbformat": 4
 },
 "nbformat": 4,
 "nbformat_minor": 2
}
