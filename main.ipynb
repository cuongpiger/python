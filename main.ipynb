{
 "cells": [
  {
   "cell_type": "code",
   "execution_count": 62,
   "metadata": {},
   "outputs": [
    {
     "name": "stdout",
     "output_type": "stream",
     "text": [
      "The autoreload extension is already loaded. To reload it, use:\n",
      "  %reload_ext autoreload\n"
     ]
    }
   ],
   "source": [
    "%load_ext autoreload\n",
    "%autoreload 2"
   ]
  },
  {
   "cell_type": "code",
   "execution_count": 63,
   "metadata": {},
   "outputs": [],
   "source": [
    "import docker"
   ]
  },
  {
   "cell_type": "code",
   "execution_count": 64,
   "metadata": {},
   "outputs": [],
   "source": [
    "client = docker.from_env()"
   ]
  },
  {
   "cell_type": "code",
   "execution_count": 83,
   "metadata": {},
   "outputs": [
    {
     "name": "stdout",
     "output_type": "stream",
     "text": [
      "cluster-autoscaler\n"
     ]
    }
   ],
   "source": [
    "_image = \"cluster-autoscaler\"\n",
    "print(_image)"
   ]
  },
  {
   "cell_type": "code",
   "execution_count": 84,
   "metadata": {},
   "outputs": [],
   "source": [
    "# old_registry = \"vcr.vngcloud.vn/81-vks-public\"\n",
    "old_registry = \"registry.vngcloud.vn/public\"\n",
    "new_registry = \"vcr.vngcloud.vn/public\""
   ]
  },
  {
   "cell_type": "code",
   "execution_count": 85,
   "metadata": {},
   "outputs": [],
   "source": [
    "images = client.images.pull(f\"{old_registry}/{_image}\", all_tags=True)"
   ]
  },
  {
   "cell_type": "code",
   "execution_count": 86,
   "metadata": {},
   "outputs": [
    {
     "name": "stdout",
     "output_type": "stream",
     "text": [
      "registry.vngcloud.vn/public/cluster-autoscaler:v1.27.4\n",
      "registry.vngcloud.vn/public/cluster-autoscaler:v1.26.5\n",
      "registry.vngcloud.vn/public/cluster-autoscaler:v1.25.4\n",
      "registry.vngcloud.vn/public/cluster-autoscaler:v1.24.4\n",
      "registry.vngcloud.vn/public/cluster-autoscaler:v1.24.3\n"
     ]
    }
   ],
   "source": [
    "for image in images:\n",
    "    img = image.tags[0]\n",
    "    new_image = img.replace(old_registry, new_registry)\n",
    "    print(image.tags[0])\n",
    "    image.tag(new_image)"
   ]
  },
  {
   "cell_type": "code",
   "execution_count": 87,
   "metadata": {},
   "outputs": [
    {
     "name": "stdout",
     "output_type": "stream",
     "text": [
      "Pushing... vcr.vngcloud.vn/public/cluster-autoscaler:v1.27.4\n",
      "Pushed vcr.vngcloud.vn/public/cluster-autoscaler:v1.27.4\n",
      "\n",
      "Pushing... vcr.vngcloud.vn/public/cluster-autoscaler:v1.26.5\n",
      "Pushed vcr.vngcloud.vn/public/cluster-autoscaler:v1.26.5\n",
      "\n",
      "Pushing... vcr.vngcloud.vn/public/cluster-autoscaler:v1.25.4\n",
      "Pushed vcr.vngcloud.vn/public/cluster-autoscaler:v1.25.4\n",
      "\n",
      "Pushing... vcr.vngcloud.vn/public/cluster-autoscaler:v1.24.4\n",
      "Pushed vcr.vngcloud.vn/public/cluster-autoscaler:v1.24.4\n",
      "\n",
      "Pushing... vcr.vngcloud.vn/public/cluster-autoscaler:v1.24.3\n",
      "Pushed vcr.vngcloud.vn/public/cluster-autoscaler:v1.24.3\n",
      "\n"
     ]
    }
   ],
   "source": [
    "for image in images:\n",
    "    img = image.tags[0]\n",
    "    new_image = img.replace(old_registry, new_registry)\n",
    "    print(f\"Pushing... {new_image}\")\n",
    "    client.images.push(new_image)\n",
    "    print(f\"Pushed {new_image}\\n\")"
   ]
  },
  {
   "cell_type": "code",
   "execution_count": 88,
   "metadata": {},
   "outputs": [
    {
     "name": "stdout",
     "output_type": "stream",
     "text": [
      "Deleted Images:\n",
      "untagged: registry.vngcloud.vn/public/cluster-autoscaler:v1.24.3\n",
      "untagged: registry.vngcloud.vn/public/cluster-autoscaler@sha256:d362e852d1328a0ea0aa78e28816286b053a7780c563776afa1693979463b021\n",
      "untagged: vcr.vngcloud.vn/public/cluster-autoscaler:v1.24.3\n",
      "untagged: vcr.vngcloud.vn/public/cluster-autoscaler@sha256:d362e852d1328a0ea0aa78e28816286b053a7780c563776afa1693979463b021\n",
      "deleted: sha256:3013a318ee533ba64633e6c9b9ac83c2bec23d2a98532be60f8c1b8fc95fd26a\n",
      "deleted: sha256:5e4c621b0ec54741a1093d9e441423fdb35865ac38151210ae3799708d112b98\n",
      "untagged: registry.vngcloud.vn/public/cluster-autoscaler:v1.25.4\n",
      "untagged: registry.vngcloud.vn/public/cluster-autoscaler@sha256:5bce951dad1823c252a90a8669d2172e64cbea5ccae7b4654e39414463a4cd40\n",
      "untagged: vcr.vngcloud.vn/public/cluster-autoscaler:v1.25.4\n",
      "untagged: vcr.vngcloud.vn/public/cluster-autoscaler@sha256:5bce951dad1823c252a90a8669d2172e64cbea5ccae7b4654e39414463a4cd40\n",
      "deleted: sha256:e2e1285fbfd73b1505465b97f1dfe71900ba8b949217698ffada1128c37f92d1\n",
      "deleted: sha256:526ba9faa920af925b6ac8f8c5f7e89810335426c3e6cedfbeedb5fd42f7bf9a\n",
      "untagged: registry.vngcloud.vn/public/cluster-autoscaler:v1.26.5\n",
      "untagged: registry.vngcloud.vn/public/cluster-autoscaler@sha256:c1a44825d30e12f25c5831103121adebe696b9f1ffa153154c9cb368b0a6f71b\n",
      "untagged: vcr.vngcloud.vn/public/cluster-autoscaler:v1.26.5\n",
      "untagged: vcr.vngcloud.vn/public/cluster-autoscaler@sha256:c1a44825d30e12f25c5831103121adebe696b9f1ffa153154c9cb368b0a6f71b\n",
      "deleted: sha256:e060e61a0dc18e987b86d16507f467e4c71a96964ad268bdc03569b1bf87a17e\n",
      "deleted: sha256:7aabadf0335d567acd30b001e52ab7bccc2fde059aaae7c7e44cba8adbdd5814\n",
      "untagged: registry.vngcloud.vn/public/cluster-autoscaler:v1.27.4\n",
      "untagged: registry.vngcloud.vn/public/cluster-autoscaler@sha256:42acc2c8809ac491dbbf6b4b985154147d93f0c9f9640447ff859b9240458b6b\n",
      "untagged: vcr.vngcloud.vn/public/cluster-autoscaler:v1.27.4\n",
      "untagged: vcr.vngcloud.vn/public/cluster-autoscaler@sha256:42acc2c8809ac491dbbf6b4b985154147d93f0c9f9640447ff859b9240458b6b\n",
      "deleted: sha256:c55a9eb2a4f850221ef2a96dd09f832958349d505ea2d429e97474e63221379c\n",
      "deleted: sha256:aff6cdbe915c4dbce211eed0a5dafe9e9e03d9e7165fe7dc4e6aaf0393f3b92f\n",
      "untagged: registry.vngcloud.vn/public/cluster-autoscaler:v1.24.4\n",
      "untagged: registry.vngcloud.vn/public/cluster-autoscaler@sha256:3ed903d2bde1108db4513af0a01c783e27e65fab350c80b238c964aef72aff1a\n",
      "untagged: vcr.vngcloud.vn/public/cluster-autoscaler:v1.24.4\n",
      "untagged: vcr.vngcloud.vn/public/cluster-autoscaler@sha256:3ed903d2bde1108db4513af0a01c783e27e65fab350c80b238c964aef72aff1a\n",
      "deleted: sha256:cb045870c99b9ffb12f1a77f01501698d9a9b9c869cc5679deb8a24a805f11ae\n",
      "deleted: sha256:562bdd6a0f715485df001f3b6457e20cbfccb2e7a3d4fae13709387a70827c94\n",
      "\n",
      "Total reclaimed space: 325.4MB\n"
     ]
    }
   ],
   "source": [
    "!docker image prune -a -f"
   ]
  },
  {
   "cell_type": "code",
   "execution_count": null,
   "metadata": {},
   "outputs": [],
   "source": []
  }
 ],
 "metadata": {
  "kernelspec": {
   "display_name": "openstack-customizing-utils",
   "language": "python",
   "name": "python3"
  },
  "language_info": {
   "codemirror_mode": {
    "name": "ipython",
    "version": 3
   },
   "file_extension": ".py",
   "mimetype": "text/x-python",
   "name": "python",
   "nbconvert_exporter": "python",
   "pygments_lexer": "ipython3",
   "version": "3.12.0"
  }
 },
 "nbformat": 4,
 "nbformat_minor": 2
}
