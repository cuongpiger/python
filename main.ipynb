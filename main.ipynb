{
 "cells": [
  {
   "cell_type": "code",
   "execution_count": 1,
   "metadata": {},
   "outputs": [],
   "source": [
    "%load_ext autoreload\n",
    "%autoreload 2"
   ]
  },
  {
   "cell_type": "code",
   "execution_count": 2,
   "metadata": {},
   "outputs": [],
   "source": [
    "import docker"
   ]
  },
  {
   "cell_type": "code",
   "execution_count": 3,
   "metadata": {},
   "outputs": [],
   "source": [
    "client = docker.from_env()"
   ]
  },
  {
   "cell_type": "code",
   "execution_count": 16,
   "metadata": {},
   "outputs": [
    {
     "name": "stdout",
     "output_type": "stream",
     "text": [
      "kube-webhook-certgen\n"
     ]
    }
   ],
   "source": [
    "_image = \"kube-webhook-certgen\"\n",
    "print(_image)"
   ]
  },
  {
   "cell_type": "code",
   "execution_count": 17,
   "metadata": {},
   "outputs": [],
   "source": [
    "old_registry = \"vcr-hcm03.vngcloud.vn/k8s_images\"\n",
    "new_registry = \"vcr.vngcloud.vn/k8s_images\""
   ]
  },
  {
   "cell_type": "code",
   "execution_count": 18,
   "metadata": {},
   "outputs": [],
   "source": [
    "images = client.images.pull(f\"{old_registry}/{_image}\", all_tags=True)"
   ]
  },
  {
   "cell_type": "code",
   "execution_count": 19,
   "metadata": {},
   "outputs": [
    {
     "name": "stdout",
     "output_type": "stream",
     "text": [
      "vcr-hcm03.vngcloud.vn/k8s_images/kube-webhook-certgen:v1.0.0\n"
     ]
    }
   ],
   "source": [
    "for image in images:\n",
    "    img = image.tags[0]\n",
    "    new_image = img.replace(old_registry, new_registry)\n",
    "    print(image.tags[0])\n",
    "    image.tag(new_image)"
   ]
  },
  {
   "cell_type": "code",
   "execution_count": 20,
   "metadata": {},
   "outputs": [
    {
     "name": "stdout",
     "output_type": "stream",
     "text": [
      "Pushing... vcr.vngcloud.vn/k8s_images/kube-webhook-certgen:v1.0.0\n",
      "Pushed vcr.vngcloud.vn/k8s_images/kube-webhook-certgen:v1.0.0\n",
      "\n"
     ]
    }
   ],
   "source": [
    "for image in images:\n",
    "    img = image.tags[0]\n",
    "    new_image = img.replace(old_registry, new_registry)\n",
    "    print(f\"Pushing... {new_image}\")\n",
    "    client.images.push(new_image)\n",
    "    print(f\"Pushed {new_image}\\n\")"
   ]
  },
  {
   "cell_type": "code",
   "execution_count": 21,
   "metadata": {},
   "outputs": [
    {
     "name": "stdout",
     "output_type": "stream",
     "text": [
      "Deleted Images:\n",
      "untagged: vcr-hcm03.vngcloud.vn/k8s_images/kube-webhook-certgen:v1.0.0\n",
      "untagged: vcr-hcm03.vngcloud.vn/k8s_images/kube-webhook-certgen@sha256:58fde0ddd7a0d1bf1483fed53e363144ae8741d8a2d6c129422e8b1b9aa0543c\n",
      "untagged: vcr.vngcloud.vn/k8s_images/kube-webhook-certgen:v1.0.0\n",
      "untagged: vcr.vngcloud.vn/k8s_images/kube-webhook-certgen@sha256:58fde0ddd7a0d1bf1483fed53e363144ae8741d8a2d6c129422e8b1b9aa0543c\n",
      "deleted: sha256:f3b9b9fa842c4d353f869615fb18605485a59d87345f1461e78c29a487bdbbe1\n",
      "deleted: sha256:5e698399e5b8c4e39238d73f4d38721cf26d6c4f556eb84698e7adc8af3fb26b\n",
      "deleted: sha256:bcea74d7ae61fa36e227e9747a283de9fd7c44aafe2fc8c503bbf94705dbfa04\n",
      "deleted: sha256:932da51564135c98a49a34a193d6cd363d8fa4184d957fde16c9d8527b3f3b02\n",
      "\n",
      "Total reclaimed space: 51.53MB\n"
     ]
    }
   ],
   "source": [
    "!docker image prune -a -f"
   ]
  },
  {
   "cell_type": "code",
   "execution_count": null,
   "metadata": {},
   "outputs": [],
   "source": []
  }
 ],
 "metadata": {
  "kernelspec": {
   "display_name": "openstack-customizing-utils",
   "language": "python",
   "name": "python3"
  },
  "language_info": {
   "codemirror_mode": {
    "name": "ipython",
    "version": 3
   },
   "file_extension": ".py",
   "mimetype": "text/x-python",
   "name": "python",
   "nbconvert_exporter": "python",
   "pygments_lexer": "ipython3",
   "version": "3.12.0"
  }
 },
 "nbformat": 4,
 "nbformat_minor": 2
}
