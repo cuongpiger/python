{
 "cells": [
  {
   "cell_type": "markdown",
   "metadata": {},
   "source": [
    "# 1. What is Spark?\n",
    "## 1.1. Spark is scalable\n",
    "* Spark runs on top of a cluster manager.\n",
    "* It runs on your desktop or on **one master node of a cluster**.\n",
    "* As illustrated in the following diagram, the cluster manager will split up the work and coordinare it amomg various executors. Spark will split up and create multiple executors per machine.\n",
    "* If one of the executors goes down, it can recover without actually stopping your entire job and making you start it all over again.<br>\n",
    "\n",
    "<center> \n",
    "\n",
    "  ![](./images/01.png)\n",
    "  \n",
    "</center>"
   ]
  },
  {
   "cell_type": "markdown",
   "metadata": {},
   "source": [
    "## 1.2. Spark is fast"
   ]
  },
  {
   "cell_type": "code",
   "execution_count": 4,
   "metadata": {},
   "outputs": [],
   "source": [
    "import pandas as pd\n",
    "import numpy as np"
   ]
  },
  {
   "cell_type": "code",
   "execution_count": 5,
   "metadata": {},
   "outputs": [],
   "source": [
    "example_testing = \"Manh Cuong dep trai vo dich sieu cap vu tru\"\n",
    "example_testing = example_testing.split()\n"
   ]
  },
  {
   "cell_type": "code",
   "execution_count": null,
   "metadata": {},
   "outputs": [],
   "source": []
  }
 ],
 "metadata": {
  "interpreter": {
   "hash": "8d9af65d782dbd37fec13b95660a3f96d11b2648e2cfc799a970c340749ecbb7"
  },
  "kernelspec": {
   "display_name": "Python 3.7.11 ('pyspark_env')",
   "language": "python",
   "name": "python3"
  },
  "language_info": {
   "codemirror_mode": {
    "name": "ipython",
    "version": 3
   },
   "file_extension": ".py",
   "mimetype": "text/x-python",
   "name": "python",
   "nbconvert_exporter": "python",
   "pygments_lexer": "ipython3",
   "version": "3.7.11"
  },
  "orig_nbformat": 4
 },
 "nbformat": 4,
 "nbformat_minor": 2
}
